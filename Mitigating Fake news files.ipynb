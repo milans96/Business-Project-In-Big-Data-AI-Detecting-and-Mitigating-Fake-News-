{
 "cells": [
  {
   "cell_type": "code",
   "execution_count": 2,
   "id": "33553331-81fb-49f7-872c-fd3847c6b299",
   "metadata": {},
   "outputs": [
    {
     "name": "stdout",
     "output_type": "stream",
     "text": [
      "Imports OK\n"
     ]
    },
    {
     "name": "stderr",
     "output_type": "stream",
     "text": [
      "[nltk_data] Downloading package punkt to\n",
      "[nltk_data]     C:\\Users\\HP\\AppData\\Roaming\\nltk_data...\n",
      "[nltk_data]   Package punkt is already up-to-date!\n",
      "[nltk_data] Downloading package stopwords to\n",
      "[nltk_data]     C:\\Users\\HP\\AppData\\Roaming\\nltk_data...\n",
      "[nltk_data]   Package stopwords is already up-to-date!\n",
      "[nltk_data] Downloading package wordnet to\n",
      "[nltk_data]     C:\\Users\\HP\\AppData\\Roaming\\nltk_data...\n",
      "[nltk_data]   Package wordnet is already up-to-date!\n",
      "[nltk_data] Downloading package omw-1.4 to\n",
      "[nltk_data]     C:\\Users\\HP\\AppData\\Roaming\\nltk_data...\n",
      "[nltk_data]   Package omw-1.4 is already up-to-date!\n"
     ]
    }
   ],
   "source": [
    "# Cell 2: imports and small setup\n",
    "import os, re, string\n",
    "import pandas as pd\n",
    "import numpy as np\n",
    "from tqdm import tqdm\n",
    "from sklearn.model_selection import train_test_split\n",
    "from sklearn.feature_extraction.text import TfidfVectorizer\n",
    "from sklearn.linear_model import LogisticRegression\n",
    "from sklearn.naive_bayes import MultinomialNB\n",
    "from sklearn.ensemble import RandomForestClassifier\n",
    "from sklearn.metrics import classification_report, confusion_matrix, accuracy_score, precision_score, recall_score, f1_score, roc_auc_score\n",
    "import matplotlib.pyplot as plt\n",
    "import seaborn as sns\n",
    "import joblib\n",
    "\n",
    "# nltk downloads (first run)\n",
    "import nltk\n",
    "nltk.download('punkt')\n",
    "nltk.download('stopwords')\n",
    "nltk.download('wordnet')\n",
    "nltk.download('omw-1.4')\n",
    "\n",
    "from nltk.corpus import stopwords\n",
    "from nltk.stem import WordNetLemmatizer\n",
    "\n",
    "print(\"Imports OK\")\n"
   ]
  },
  {
   "cell_type": "code",
   "execution_count": 3,
   "id": "bf69d07e-a048-4b4b-a271-b8ec9564f94b",
   "metadata": {},
   "outputs": [
    {
     "name": "stdout",
     "output_type": "stream",
     "text": [
      "Fake columns: ['title', 'text', 'subject', 'date']\n",
      "True columns: ['title', 'text', 'subject', 'date']\n",
      "Fake shape: (23481, 4) True shape: (21417, 4)\n"
     ]
    },
    {
     "data": {
      "text/html": [
       "<div>\n",
       "<style scoped>\n",
       "    .dataframe tbody tr th:only-of-type {\n",
       "        vertical-align: middle;\n",
       "    }\n",
       "\n",
       "    .dataframe tbody tr th {\n",
       "        vertical-align: top;\n",
       "    }\n",
       "\n",
       "    .dataframe thead th {\n",
       "        text-align: right;\n",
       "    }\n",
       "</style>\n",
       "<table border=\"1\" class=\"dataframe\">\n",
       "  <thead>\n",
       "    <tr style=\"text-align: right;\">\n",
       "      <th></th>\n",
       "      <th>title</th>\n",
       "      <th>text</th>\n",
       "      <th>subject</th>\n",
       "      <th>date</th>\n",
       "    </tr>\n",
       "  </thead>\n",
       "  <tbody>\n",
       "    <tr>\n",
       "      <th>0</th>\n",
       "      <td>Donald Trump Sends Out Embarrassing New Year’...</td>\n",
       "      <td>Donald Trump just couldn t wish all Americans ...</td>\n",
       "      <td>News</td>\n",
       "      <td>December 31, 2017</td>\n",
       "    </tr>\n",
       "    <tr>\n",
       "      <th>1</th>\n",
       "      <td>Drunk Bragging Trump Staffer Started Russian ...</td>\n",
       "      <td>House Intelligence Committee Chairman Devin Nu...</td>\n",
       "      <td>News</td>\n",
       "      <td>December 31, 2017</td>\n",
       "    </tr>\n",
       "    <tr>\n",
       "      <th>2</th>\n",
       "      <td>Sheriff David Clarke Becomes An Internet Joke...</td>\n",
       "      <td>On Friday, it was revealed that former Milwauk...</td>\n",
       "      <td>News</td>\n",
       "      <td>December 30, 2017</td>\n",
       "    </tr>\n",
       "  </tbody>\n",
       "</table>\n",
       "</div>"
      ],
      "text/plain": [
       "                                               title  \\\n",
       "0   Donald Trump Sends Out Embarrassing New Year’...   \n",
       "1   Drunk Bragging Trump Staffer Started Russian ...   \n",
       "2   Sheriff David Clarke Becomes An Internet Joke...   \n",
       "\n",
       "                                                text subject  \\\n",
       "0  Donald Trump just couldn t wish all Americans ...    News   \n",
       "1  House Intelligence Committee Chairman Devin Nu...    News   \n",
       "2  On Friday, it was revealed that former Milwauk...    News   \n",
       "\n",
       "                date  \n",
       "0  December 31, 2017  \n",
       "1  December 31, 2017  \n",
       "2  December 30, 2017  "
      ]
     },
     "metadata": {},
     "output_type": "display_data"
    },
    {
     "data": {
      "text/html": [
       "<div>\n",
       "<style scoped>\n",
       "    .dataframe tbody tr th:only-of-type {\n",
       "        vertical-align: middle;\n",
       "    }\n",
       "\n",
       "    .dataframe tbody tr th {\n",
       "        vertical-align: top;\n",
       "    }\n",
       "\n",
       "    .dataframe thead th {\n",
       "        text-align: right;\n",
       "    }\n",
       "</style>\n",
       "<table border=\"1\" class=\"dataframe\">\n",
       "  <thead>\n",
       "    <tr style=\"text-align: right;\">\n",
       "      <th></th>\n",
       "      <th>title</th>\n",
       "      <th>text</th>\n",
       "      <th>subject</th>\n",
       "      <th>date</th>\n",
       "    </tr>\n",
       "  </thead>\n",
       "  <tbody>\n",
       "    <tr>\n",
       "      <th>0</th>\n",
       "      <td>As U.S. budget fight looms, Republicans flip t...</td>\n",
       "      <td>WASHINGTON (Reuters) - The head of a conservat...</td>\n",
       "      <td>politicsNews</td>\n",
       "      <td>December 31, 2017</td>\n",
       "    </tr>\n",
       "    <tr>\n",
       "      <th>1</th>\n",
       "      <td>U.S. military to accept transgender recruits o...</td>\n",
       "      <td>WASHINGTON (Reuters) - Transgender people will...</td>\n",
       "      <td>politicsNews</td>\n",
       "      <td>December 29, 2017</td>\n",
       "    </tr>\n",
       "    <tr>\n",
       "      <th>2</th>\n",
       "      <td>Senior U.S. Republican senator: 'Let Mr. Muell...</td>\n",
       "      <td>WASHINGTON (Reuters) - The special counsel inv...</td>\n",
       "      <td>politicsNews</td>\n",
       "      <td>December 31, 2017</td>\n",
       "    </tr>\n",
       "  </tbody>\n",
       "</table>\n",
       "</div>"
      ],
      "text/plain": [
       "                                               title  \\\n",
       "0  As U.S. budget fight looms, Republicans flip t...   \n",
       "1  U.S. military to accept transgender recruits o...   \n",
       "2  Senior U.S. Republican senator: 'Let Mr. Muell...   \n",
       "\n",
       "                                                text       subject  \\\n",
       "0  WASHINGTON (Reuters) - The head of a conservat...  politicsNews   \n",
       "1  WASHINGTON (Reuters) - Transgender people will...  politicsNews   \n",
       "2  WASHINGTON (Reuters) - The special counsel inv...  politicsNews   \n",
       "\n",
       "                 date  \n",
       "0  December 31, 2017   \n",
       "1  December 29, 2017   \n",
       "2  December 31, 2017   "
      ]
     },
     "metadata": {},
     "output_type": "display_data"
    }
   ],
   "source": [
    "# Cell 3: load the CSVs and inspect\n",
    "fake_path = r\"C:\\27_python\\Fake.csv\"\n",
    "true_path = r\"C:\\27_python\\True.csv\"\n",
    "\n",
    "df_fake = pd.read_csv(fake_path)\n",
    "df_true = pd.read_csv(true_path)\n",
    "\n",
    "print(\"Fake columns:\", df_fake.columns.tolist())\n",
    "print(\"True columns:\", df_true.columns.tolist())\n",
    "print(\"Fake shape:\", df_fake.shape, \"True shape:\", df_true.shape)\n",
    "\n",
    "# show first 3 rows of each for screenshot\n",
    "display(df_fake.head(3))\n",
    "display(df_true.head(3))\n"
   ]
  },
  {
   "cell_type": "code",
   "execution_count": 4,
   "id": "050ff09b-0900-42b5-9a7a-e52f9c832f21",
   "metadata": {},
   "outputs": [
    {
     "data": {
      "text/html": [
       "<div>\n",
       "<style scoped>\n",
       "    .dataframe tbody tr th:only-of-type {\n",
       "        vertical-align: middle;\n",
       "    }\n",
       "\n",
       "    .dataframe tbody tr th {\n",
       "        vertical-align: top;\n",
       "    }\n",
       "\n",
       "    .dataframe thead th {\n",
       "        text-align: right;\n",
       "    }\n",
       "</style>\n",
       "<table border=\"1\" class=\"dataframe\">\n",
       "  <thead>\n",
       "    <tr style=\"text-align: right;\">\n",
       "      <th></th>\n",
       "      <th>title</th>\n",
       "      <th>text</th>\n",
       "    </tr>\n",
       "  </thead>\n",
       "  <tbody>\n",
       "    <tr>\n",
       "      <th>0</th>\n",
       "      <td>Donald Trump Sends Out Embarrassing New Year’...</td>\n",
       "      <td>Donald Trump just couldn t wish all Americans ...</td>\n",
       "    </tr>\n",
       "    <tr>\n",
       "      <th>1</th>\n",
       "      <td>Drunk Bragging Trump Staffer Started Russian ...</td>\n",
       "      <td>House Intelligence Committee Chairman Devin Nu...</td>\n",
       "    </tr>\n",
       "  </tbody>\n",
       "</table>\n",
       "</div>"
      ],
      "text/plain": [
       "                                               title  \\\n",
       "0   Donald Trump Sends Out Embarrassing New Year’...   \n",
       "1   Drunk Bragging Trump Staffer Started Russian ...   \n",
       "\n",
       "                                                text  \n",
       "0  Donald Trump just couldn t wish all Americans ...  \n",
       "1  House Intelligence Committee Chairman Devin Nu...  "
      ]
     },
     "metadata": {},
     "output_type": "display_data"
    },
    {
     "data": {
      "text/html": [
       "<div>\n",
       "<style scoped>\n",
       "    .dataframe tbody tr th:only-of-type {\n",
       "        vertical-align: middle;\n",
       "    }\n",
       "\n",
       "    .dataframe tbody tr th {\n",
       "        vertical-align: top;\n",
       "    }\n",
       "\n",
       "    .dataframe thead th {\n",
       "        text-align: right;\n",
       "    }\n",
       "</style>\n",
       "<table border=\"1\" class=\"dataframe\">\n",
       "  <thead>\n",
       "    <tr style=\"text-align: right;\">\n",
       "      <th></th>\n",
       "      <th>title</th>\n",
       "      <th>text</th>\n",
       "    </tr>\n",
       "  </thead>\n",
       "  <tbody>\n",
       "    <tr>\n",
       "      <th>0</th>\n",
       "      <td>As U.S. budget fight looms, Republicans flip t...</td>\n",
       "      <td>WASHINGTON (Reuters) - The head of a conservat...</td>\n",
       "    </tr>\n",
       "    <tr>\n",
       "      <th>1</th>\n",
       "      <td>U.S. military to accept transgender recruits o...</td>\n",
       "      <td>WASHINGTON (Reuters) - Transgender people will...</td>\n",
       "    </tr>\n",
       "  </tbody>\n",
       "</table>\n",
       "</div>"
      ],
      "text/plain": [
       "                                               title  \\\n",
       "0  As U.S. budget fight looms, Republicans flip t...   \n",
       "1  U.S. military to accept transgender recruits o...   \n",
       "\n",
       "                                                text  \n",
       "0  WASHINGTON (Reuters) - The head of a conservat...  \n",
       "1  WASHINGTON (Reuters) - Transgender people will...  "
      ]
     },
     "metadata": {},
     "output_type": "display_data"
    }
   ],
   "source": [
    "# Cell 4: helper to standardize title/text column names\n",
    "def standardize_text_columns(df):\n",
    "    cols = [c.lower() for c in df.columns]\n",
    "    # detect title\n",
    "    title_col = None\n",
    "    for c in ['title','headline','head']:\n",
    "        if c in cols:\n",
    "            title_col = df.columns[cols.index(c)]\n",
    "            break\n",
    "    # detect text\n",
    "    text_col = None\n",
    "    for c in ['text','content','article','body']:\n",
    "        if c in cols:\n",
    "            text_col = df.columns[cols.index(c)]\n",
    "            break\n",
    "    # rename if found\n",
    "    mapping = {}\n",
    "    if title_col:\n",
    "        mapping[title_col] = 'title'\n",
    "    if text_col:\n",
    "        mapping[text_col] = 'text'\n",
    "    df2 = df.rename(columns=mapping)\n",
    "    if 'title' not in df2.columns:\n",
    "        df2['title'] = ''\n",
    "    if 'text' not in df2.columns:\n",
    "        df2['text'] = ''\n",
    "    return df2[['title','text']]\n",
    "\n",
    "# Standardize both datasets\n",
    "df_fake_std = standardize_text_columns(df_fake)\n",
    "df_true_std = standardize_text_columns(df_true)\n",
    "\n",
    "display(df_fake_std.head(2))\n",
    "display(df_true_std.head(2))\n"
   ]
  },
  {
   "cell_type": "code",
   "execution_count": 5,
   "id": "d9999813-4caa-4535-9670-3a2c90f4cf57",
   "metadata": {},
   "outputs": [
    {
     "name": "stdout",
     "output_type": "stream",
     "text": [
      "Combined shape: (44898, 3)\n",
      "Label counts:\n",
      " label\n",
      "1    23481\n",
      "0    21417\n",
      "Name: count, dtype: int64\n"
     ]
    },
    {
     "data": {
      "text/html": [
       "<div>\n",
       "<style scoped>\n",
       "    .dataframe tbody tr th:only-of-type {\n",
       "        vertical-align: middle;\n",
       "    }\n",
       "\n",
       "    .dataframe tbody tr th {\n",
       "        vertical-align: top;\n",
       "    }\n",
       "\n",
       "    .dataframe thead th {\n",
       "        text-align: right;\n",
       "    }\n",
       "</style>\n",
       "<table border=\"1\" class=\"dataframe\">\n",
       "  <thead>\n",
       "    <tr style=\"text-align: right;\">\n",
       "      <th></th>\n",
       "      <th>title</th>\n",
       "      <th>label</th>\n",
       "    </tr>\n",
       "  </thead>\n",
       "  <tbody>\n",
       "    <tr>\n",
       "      <th>0</th>\n",
       "      <td>Ben Stein Calls Out 9th Circuit Court: Committ...</td>\n",
       "      <td>1</td>\n",
       "    </tr>\n",
       "    <tr>\n",
       "      <th>1</th>\n",
       "      <td>Trump drops Steve Bannon from National Securit...</td>\n",
       "      <td>0</td>\n",
       "    </tr>\n",
       "    <tr>\n",
       "      <th>2</th>\n",
       "      <td>Puerto Rico expects U.S. to lift Jones Act shi...</td>\n",
       "      <td>0</td>\n",
       "    </tr>\n",
       "  </tbody>\n",
       "</table>\n",
       "</div>"
      ],
      "text/plain": [
       "                                               title  label\n",
       "0  Ben Stein Calls Out 9th Circuit Court: Committ...      1\n",
       "1  Trump drops Steve Bannon from National Securit...      0\n",
       "2  Puerto Rico expects U.S. to lift Jones Act shi...      0"
      ]
     },
     "metadata": {},
     "output_type": "display_data"
    }
   ],
   "source": [
    "# Cell 5: add label and combine\n",
    "df_fake_std['label'] = 1   # fake\n",
    "df_true_std['label'] = 0   # real\n",
    "\n",
    "df = pd.concat([df_fake_std, df_true_std], ignore_index=True).sample(frac=1, random_state=42).reset_index(drop=True)\n",
    "print(\"Combined shape:\", df.shape)\n",
    "print(\"Label counts:\\n\", df['label'].value_counts())\n",
    "\n",
    "# create a single text 'content' column (title + text)\n",
    "df['content'] = (df['title'].fillna('') + ' . ' + df['text'].fillna('')).str.strip()\n",
    "display(df[['title','label']].head(3))\n"
   ]
  },
  {
   "cell_type": "code",
   "execution_count": 6,
   "id": "7682a4ee-5a9c-4171-96ed-e7a2f037922e",
   "metadata": {},
   "outputs": [],
   "source": [
    "# Cell 6: cleaning tokenization + lemmatization\n",
    "STOPWORDS = set(stopwords.words('english'))\n",
    "lemmatizer = WordNetLemmatizer()\n",
    "\n",
    "def clean_text(text):\n",
    "    if pd.isnull(text):\n",
    "        return \"\"\n",
    "    s = str(text)\n",
    "    s = re.sub(r'http\\S+|www\\.\\S+', ' ', s)       # remove urls\n",
    "    s = re.sub(r'@\\w+|#\\w+', ' ', s)              # mentions/hashtags\n",
    "    s = re.sub(r'[^A-Za-z0-9\\s]', ' ', s)\n",
    "    #s = re.sub(r'[^A-Za-z\\s]', ' ', s)            # remove punctuation/numbers\n",
    "    s = re.sub(r'\\s+', ' ', s).strip().lower()\n",
    "    tokens = [lemmatizer.lemmatize(tok) for tok in s.split() if tok not in STOPWORDS and len(tok)>1]\n",
    "    return \" \".join(tokens)\n"
   ]
  },
  {
   "cell_type": "code",
   "execution_count": 7,
   "id": "e3ac267a-49a9-4e46-ac46-5c7965f30f56",
   "metadata": {},
   "outputs": [
    {
     "name": "stderr",
     "output_type": "stream",
     "text": [
      "Cleaning: 100%|█████████████████████████████████████████████████████████████████| 44898/44898 [00:51<00:00, 876.76it/s]"
     ]
    },
    {
     "name": "stdout",
     "output_type": "stream",
     "text": [
      "Original (truncated): Ben Stein Calls Out 9th Circuit Court: Committed a ‘Coup d’état’ Against the Constitution . 21st Century Wire says Ben Stein, reputable professor from, Pepperdine University (also of some Hollywood fame appearing in TV shows and films such as Ferris Bueller s Day Off) made some provocative statements on Judge Jeanine Pirro s show recently. While discussing the halt that was imposed on President Tr\n",
      "\n",
      "Cleaned (truncated): ben stein call 9th circuit court committed coup tat constitution 21st century wire say ben stein reputable professor pepperdine university also hollywood fame appearing tv show film ferris bueller day made provocative statement judge jeanine pirro show recently discussing halt imposed president trump executive order travel stein referred judgement 9th circuit court washington state coup tat execut\n"
     ]
    },
    {
     "name": "stderr",
     "output_type": "stream",
     "text": [
      "\n"
     ]
    }
   ],
   "source": [
    "# Cell 7: clean content (may take a few minutes)\n",
    "tqdm.pandas(desc=\"Cleaning\")\n",
    "df['content_clean'] = df['content'].progress_apply(clean_text)\n",
    "\n",
    "# show before/after on an example for screenshot\n",
    "sample_idx = 0\n",
    "print(\"Original (truncated):\", df.loc[sample_idx,'content'][:400])\n",
    "print(\"\\nCleaned (truncated):\", df.loc[sample_idx,'content_clean'][:400])\n"
   ]
  },
  {
   "cell_type": "code",
   "execution_count": 8,
   "id": "ca632b45-cf0d-49bd-86d4-6c21e3335e55",
   "metadata": {},
   "outputs": [
    {
     "name": "stdout",
     "output_type": "stream",
     "text": [
      "Train: 35918 Test: 8980\n"
     ]
    }
   ],
   "source": [
    "# Cell 8: split into train/test (stratify by label)\n",
    "X = df['content_clean'].values\n",
    "y = df['label'].values\n",
    "\n",
    "X_train, X_test, y_train, y_test = train_test_split(X, y, test_size=0.20, stratify=y, random_state=42)\n",
    "print(\"Train:\", len(X_train), \"Test:\", len(X_test))\n"
   ]
  },
  {
   "cell_type": "code",
   "execution_count": 9,
   "id": "f289d26d-ee98-4a50-89b7-6eadaf3ed8f6",
   "metadata": {},
   "outputs": [
    {
     "name": "stdout",
     "output_type": "stream",
     "text": [
      "TF-IDF shapes: (35918, 15000) (8980, 15000)\n"
     ]
    }
   ],
   "source": [
    "# Cell 9: TF-IDF\n",
    "vectorizer = TfidfVectorizer(max_features=15000, ngram_range=(1,2))\n",
    "X_train_tfidf = vectorizer.fit_transform(X_train)\n",
    "X_test_tfidf = vectorizer.transform(X_test)\n",
    "print(\"TF-IDF shapes:\", X_train_tfidf.shape, X_test_tfidf.shape)\n"
   ]
  },
  {
   "cell_type": "code",
   "execution_count": 10,
   "id": "e23da64e-d32f-4440-ae77-723c58536e67",
   "metadata": {},
   "outputs": [
    {
     "name": "stdout",
     "output_type": "stream",
     "text": [
      "LogisticRegression Report\n",
      "              precision    recall  f1-score   support\n",
      "\n",
      "           0     0.9863    0.9937    0.9900      4284\n",
      "           1     0.9942    0.9874    0.9908      4696\n",
      "\n",
      "    accuracy                         0.9904      8980\n",
      "   macro avg     0.9903    0.9906    0.9904      8980\n",
      "weighted avg     0.9905    0.9904    0.9904      8980\n",
      "\n"
     ]
    }
   ],
   "source": [
    "# Cell 10: train Logistic Regression\n",
    "lr = LogisticRegression(max_iter=1200, solver='saga', class_weight='balanced')\n",
    "lr.fit(X_train_tfidf, y_train)\n",
    "\n",
    "# predictions + report\n",
    "y_pred_lr = lr.predict(X_test_tfidf)\n",
    "y_proba_lr = lr.predict_proba(X_test_tfidf)[:,1]\n",
    "\n",
    "print(\"LogisticRegression Report\")\n",
    "print(classification_report(y_test, y_pred_lr, digits=4))\n"
   ]
  },
  {
   "cell_type": "code",
   "execution_count": 11,
   "id": "418db495-6cb6-4b8f-9430-703346349595",
   "metadata": {},
   "outputs": [
    {
     "name": "stdout",
     "output_type": "stream",
     "text": [
      "MultinomialNB Report\n",
      "              precision    recall  f1-score   support\n",
      "\n",
      "           0     0.9467    0.9496    0.9481      4284\n",
      "           1     0.9539    0.9512    0.9526      4696\n",
      "\n",
      "    accuracy                         0.9504      8980\n",
      "   macro avg     0.9503    0.9504    0.9503      8980\n",
      "weighted avg     0.9505    0.9504    0.9504      8980\n",
      "\n"
     ]
    }
   ],
   "source": [
    "# Cell 11: Multinomial Naive Bayes\n",
    "nb = MultinomialNB()\n",
    "nb.fit(X_train_tfidf, y_train)\n",
    "y_pred_nb = nb.predict(X_test_tfidf)\n",
    "y_proba_nb = nb.predict_proba(X_test_tfidf)[:,1]\n",
    "print(\"MultinomialNB Report\")\n",
    "print(classification_report(y_test, y_pred_nb, digits=4))\n"
   ]
  },
  {
   "cell_type": "code",
   "execution_count": 12,
   "id": "098f023e-02c3-46d8-a2b1-7ee335bc7115",
   "metadata": {},
   "outputs": [
    {
     "name": "stdout",
     "output_type": "stream",
     "text": [
      "RandomForest Report\n",
      "              precision    recall  f1-score   support\n",
      "\n",
      "           0     0.9974    0.9988    0.9981      4284\n",
      "           1     0.9989    0.9977    0.9983      4696\n",
      "\n",
      "    accuracy                         0.9982      8980\n",
      "   macro avg     0.9982    0.9982    0.9982      8980\n",
      "weighted avg     0.9982    0.9982    0.9982      8980\n",
      "\n"
     ]
    }
   ],
   "source": [
    "# Cell 12: Random Forest (faster config)\n",
    "rf = RandomForestClassifier(n_estimators=150, n_jobs=-1, class_weight='balanced', random_state=42)\n",
    "rf.fit(X_train_tfidf, y_train)\n",
    "y_pred_rf = rf.predict(X_test_tfidf)\n",
    "# rf may not have predict_proba if too slow; try:\n",
    "try:\n",
    "    y_proba_rf = rf.predict_proba(X_test_tfidf)[:,1]\n",
    "except Exception:\n",
    "    y_proba_rf = None\n",
    "print(\"RandomForest Report\")\n",
    "print(classification_report(y_test, y_pred_rf, digits=4))\n"
   ]
  },
  {
   "cell_type": "code",
   "execution_count": 13,
   "id": "92a092e1-78ba-4340-839e-3dc0e7b39857",
   "metadata": {},
   "outputs": [
    {
     "data": {
      "text/html": [
       "<div>\n",
       "<style scoped>\n",
       "    .dataframe tbody tr th:only-of-type {\n",
       "        vertical-align: middle;\n",
       "    }\n",
       "\n",
       "    .dataframe tbody tr th {\n",
       "        vertical-align: top;\n",
       "    }\n",
       "\n",
       "    .dataframe thead th {\n",
       "        text-align: right;\n",
       "    }\n",
       "</style>\n",
       "<table border=\"1\" class=\"dataframe\">\n",
       "  <thead>\n",
       "    <tr style=\"text-align: right;\">\n",
       "      <th></th>\n",
       "      <th>model</th>\n",
       "      <th>accuracy</th>\n",
       "      <th>precision</th>\n",
       "      <th>recall</th>\n",
       "      <th>f1</th>\n",
       "    </tr>\n",
       "  </thead>\n",
       "  <tbody>\n",
       "    <tr>\n",
       "      <th>0</th>\n",
       "      <td>RandomForest</td>\n",
       "      <td>0.998218</td>\n",
       "      <td>0.998934</td>\n",
       "      <td>0.997658</td>\n",
       "      <td>0.998295</td>\n",
       "    </tr>\n",
       "    <tr>\n",
       "      <th>1</th>\n",
       "      <td>LogisticRegression</td>\n",
       "      <td>0.990423</td>\n",
       "      <td>0.994211</td>\n",
       "      <td>0.987436</td>\n",
       "      <td>0.990812</td>\n",
       "    </tr>\n",
       "    <tr>\n",
       "      <th>2</th>\n",
       "      <td>MultinomialNB</td>\n",
       "      <td>0.950445</td>\n",
       "      <td>0.953876</td>\n",
       "      <td>0.951235</td>\n",
       "      <td>0.952554</td>\n",
       "    </tr>\n",
       "  </tbody>\n",
       "</table>\n",
       "</div>"
      ],
      "text/plain": [
       "                model  accuracy  precision    recall        f1\n",
       "0        RandomForest  0.998218   0.998934  0.997658  0.998295\n",
       "1  LogisticRegression  0.990423   0.994211  0.987436  0.990812\n",
       "2       MultinomialNB  0.950445   0.953876  0.951235  0.952554"
      ]
     },
     "metadata": {},
     "output_type": "display_data"
    }
   ],
   "source": [
    "# Cell 13: compare metrics in a DataFrame (for report table)\n",
    "models = {\n",
    "    'LogisticRegression': y_pred_lr,\n",
    "    'MultinomialNB': y_pred_nb,\n",
    "    'RandomForest': y_pred_rf\n",
    "}\n",
    "rows = []\n",
    "for name, y_pred in models.items():\n",
    "    acc = accuracy_score(y_test, y_pred)\n",
    "    prec = precision_score(y_test, y_pred, zero_division=0)\n",
    "    rec = recall_score(y_test, y_pred, zero_division=0)\n",
    "    f1 = f1_score(y_test, y_pred, zero_division=0)\n",
    "    rows.append({'model':name, 'accuracy':acc, 'precision':prec, 'recall':rec, 'f1':f1})\n",
    "df_comp = pd.DataFrame(rows).sort_values('f1', ascending=False).reset_index(drop=True)\n",
    "display(df_comp)\n",
    "df_comp.to_csv(\"model_comparison.csv\", index=False)   # save for repo\n"
   ]
  },
  {
   "cell_type": "code",
   "execution_count": 14,
   "id": "17baa096-9d14-4933-a646-c1d2a6a21b98",
   "metadata": {},
   "outputs": [
    {
     "data": {
      "image/png": "[encoded data removed]",
      "text/plain": [
       "<Figure size 500x400 with 2 Axes>"
      ]
     },
     "metadata": {},
     "output_type": "display_data"
    }
   ],
   "source": [
    "# Cell 14: confusion matrix and save image\n",
    "cm = confusion_matrix(y_test, y_pred_lr)\n",
    "plt.figure(figsize=(5,4))\n",
    "sns.heatmap(cm, annot=True, fmt='d', cmap='Blues', xticklabels=['Real','Fake'], yticklabels=['Real','Fake'])\n",
    "plt.xlabel(\"Predicted\")\n",
    "plt.ylabel(\"Actual\")\n",
    "plt.title(\"Logistic Regression - Confusion Matrix\")\n",
    "plt.tight_layout()\n",
    "plt.savefig(\"cm_lr.png\", dpi=150)\n",
    "plt.show()\n"
   ]
  },
  {
   "cell_type": "code",
   "execution_count": 15,
   "id": "f0f09501-90cb-4d83-9cf1-e482e9ea03fa",
   "metadata": {},
   "outputs": [
    {
     "data": {
      "image/png": "[encoded data removed]",
      "text/plain": [
       "<Figure size 500x400 with 2 Axes>"
      ]
     },
     "metadata": {},
     "output_type": "display_data"
    }
   ],
   "source": [
    "# Confusion Matrix for Naive Bayes\n",
    "cm_nb = confusion_matrix(y_test, y_pred_nb)\n",
    "\n",
    "plt.figure(figsize=(5,4))\n",
    "sns.heatmap(cm_nb, annot=True, fmt='d', cmap='Greens', xticklabels=['Real','Fake'], yticklabels=['Real','Fake'])\n",
    "plt.xlabel(\"Predicted\")\n",
    "plt.ylabel(\"Actual\")\n",
    "plt.title(\"Naive Bayes - Confusion Matrix\")\n",
    "plt.tight_layout()\n",
    "plt.savefig(\"cm_nb.png\", dpi=150)\n",
    "plt.show()\n"
   ]
  },
  {
   "cell_type": "code",
   "execution_count": 16,
   "id": "fffb4ec6-9d7c-4b20-857b-584ee46615e9",
   "metadata": {},
   "outputs": [
    {
     "data": {
      "image/png": "[encoded data removed]",
      "text/plain": [
       "<Figure size 500x400 with 2 Axes>"
      ]
     },
     "metadata": {},
     "output_type": "display_data"
    }
   ],
   "source": [
    "# Confusion Matrix for Random Forest\n",
    "cm_rf = confusion_matrix(y_test, y_pred_rf)\n",
    "\n",
    "plt.figure(figsize=(5,4))\n",
    "sns.heatmap(cm_rf, annot=True, fmt='d', cmap='Oranges', xticklabels=['Real','Fake'], yticklabels=['Real','Fake'])\n",
    "plt.xlabel(\"Predicted\")\n",
    "plt.ylabel(\"Actual\")\n",
    "plt.title(\"Random Forest - Confusion Matrix\")\n",
    "plt.tight_layout()\n",
    "plt.savefig(\"cm_rf.png\", dpi=150)\n",
    "plt.show()\n"
   ]
  },
  {
   "cell_type": "code",
   "execution_count": 22,
   "id": "a5bd6464-87da-4f65-9aa3-8ac429de9662",
   "metadata": {},
   "outputs": [
    {
     "data": {
      "text/html": [
       "<div>\n",
       "<style scoped>\n",
       "    .dataframe tbody tr th:only-of-type {\n",
       "        vertical-align: middle;\n",
       "    }\n",
       "\n",
       "    .dataframe tbody tr th {\n",
       "        vertical-align: top;\n",
       "    }\n",
       "\n",
       "    .dataframe thead th {\n",
       "        text-align: right;\n",
       "    }\n",
       "</style>\n",
       "<table border=\"1\" class=\"dataframe\">\n",
       "  <thead>\n",
       "    <tr style=\"text-align: right;\">\n",
       "      <th></th>\n",
       "      <th>feature</th>\n",
       "      <th>coef</th>\n",
       "    </tr>\n",
       "  </thead>\n",
       "  <tbody>\n",
       "    <tr>\n",
       "      <th>0</th>\n",
       "      <td>via</td>\n",
       "      <td>9.517672</td>\n",
       "    </tr>\n",
       "    <tr>\n",
       "      <th>1</th>\n",
       "      <td>video</td>\n",
       "      <td>9.221644</td>\n",
       "    </tr>\n",
       "    <tr>\n",
       "      <th>2</th>\n",
       "      <td>image</td>\n",
       "      <td>6.032002</td>\n",
       "    </tr>\n",
       "    <tr>\n",
       "      <th>3</th>\n",
       "      <td>read</td>\n",
       "      <td>5.881975</td>\n",
       "    </tr>\n",
       "    <tr>\n",
       "      <th>4</th>\n",
       "      <td>hillary</td>\n",
       "      <td>5.493275</td>\n",
       "    </tr>\n",
       "    <tr>\n",
       "      <th>5</th>\n",
       "      <td>president trump</td>\n",
       "      <td>5.461715</td>\n",
       "    </tr>\n",
       "    <tr>\n",
       "      <th>6</th>\n",
       "      <td>gop</td>\n",
       "      <td>5.185082</td>\n",
       "    </tr>\n",
       "    <tr>\n",
       "      <th>7</th>\n",
       "      <td>obama</td>\n",
       "      <td>4.842053</td>\n",
       "    </tr>\n",
       "    <tr>\n",
       "      <th>8</th>\n",
       "      <td>watch</td>\n",
       "      <td>4.400288</td>\n",
       "    </tr>\n",
       "    <tr>\n",
       "      <th>9</th>\n",
       "      <td>mr</td>\n",
       "      <td>4.397591</td>\n",
       "    </tr>\n",
       "    <tr>\n",
       "      <th>10</th>\n",
       "      <td>featured image</td>\n",
       "      <td>4.390503</td>\n",
       "    </tr>\n",
       "    <tr>\n",
       "      <th>11</th>\n",
       "      <td>featured</td>\n",
       "      <td>4.349141</td>\n",
       "    </tr>\n",
       "  </tbody>\n",
       "</table>\n",
       "</div>"
      ],
      "text/plain": [
       "            feature      coef\n",
       "0               via  9.517672\n",
       "1             video  9.221644\n",
       "2             image  6.032002\n",
       "3              read  5.881975\n",
       "4           hillary  5.493275\n",
       "5   president trump  5.461715\n",
       "6               gop  5.185082\n",
       "7             obama  4.842053\n",
       "8             watch  4.400288\n",
       "9                mr  4.397591\n",
       "10   featured image  4.390503\n",
       "11         featured  4.349141"
      ]
     },
     "metadata": {},
     "output_type": "display_data"
    },
    {
     "data": {
      "text/html": [
       "<div>\n",
       "<style scoped>\n",
       "    .dataframe tbody tr th:only-of-type {\n",
       "        vertical-align: middle;\n",
       "    }\n",
       "\n",
       "    .dataframe tbody tr th {\n",
       "        vertical-align: top;\n",
       "    }\n",
       "\n",
       "    .dataframe thead th {\n",
       "        text-align: right;\n",
       "    }\n",
       "</style>\n",
       "<table border=\"1\" class=\"dataframe\">\n",
       "  <thead>\n",
       "    <tr style=\"text-align: right;\">\n",
       "      <th></th>\n",
       "      <th>feature</th>\n",
       "      <th>coef</th>\n",
       "    </tr>\n",
       "  </thead>\n",
       "  <tbody>\n",
       "    <tr>\n",
       "      <th>0</th>\n",
       "      <td>reuters</td>\n",
       "      <td>-22.082847</td>\n",
       "    </tr>\n",
       "    <tr>\n",
       "      <th>1</th>\n",
       "      <td>said</td>\n",
       "      <td>-16.130728</td>\n",
       "    </tr>\n",
       "    <tr>\n",
       "      <th>2</th>\n",
       "      <td>washington reuters</td>\n",
       "      <td>-9.052657</td>\n",
       "    </tr>\n",
       "    <tr>\n",
       "      <th>3</th>\n",
       "      <td>president donald</td>\n",
       "      <td>-5.084564</td>\n",
       "    </tr>\n",
       "    <tr>\n",
       "      <th>4</th>\n",
       "      <td>wednesday</td>\n",
       "      <td>-4.699687</td>\n",
       "    </tr>\n",
       "    <tr>\n",
       "      <th>5</th>\n",
       "      <td>washington</td>\n",
       "      <td>-4.685756</td>\n",
       "    </tr>\n",
       "    <tr>\n",
       "      <th>6</th>\n",
       "      <td>tuesday</td>\n",
       "      <td>-4.586862</td>\n",
       "    </tr>\n",
       "    <tr>\n",
       "      <th>7</th>\n",
       "      <td>reuters president</td>\n",
       "      <td>-4.492037</td>\n",
       "    </tr>\n",
       "    <tr>\n",
       "      <th>8</th>\n",
       "      <td>thursday</td>\n",
       "      <td>-3.952658</td>\n",
       "    </tr>\n",
       "    <tr>\n",
       "      <th>9</th>\n",
       "      <td>friday</td>\n",
       "      <td>-3.672333</td>\n",
       "    </tr>\n",
       "    <tr>\n",
       "      <th>10</th>\n",
       "      <td>nov</td>\n",
       "      <td>-3.507871</td>\n",
       "    </tr>\n",
       "    <tr>\n",
       "      <th>11</th>\n",
       "      <td>minister</td>\n",
       "      <td>-3.411110</td>\n",
       "    </tr>\n",
       "  </tbody>\n",
       "</table>\n",
       "</div>"
      ],
      "text/plain": [
       "               feature       coef\n",
       "0              reuters -22.082847\n",
       "1                 said -16.130728\n",
       "2   washington reuters  -9.052657\n",
       "3     president donald  -5.084564\n",
       "4            wednesday  -4.699687\n",
       "5           washington  -4.685756\n",
       "6              tuesday  -4.586862\n",
       "7    reuters president  -4.492037\n",
       "8             thursday  -3.952658\n",
       "9               friday  -3.672333\n",
       "10                 nov  -3.507871\n",
       "11            minister  -3.411110"
      ]
     },
     "metadata": {},
     "output_type": "display_data"
    }
   ],
   "source": [
    "# Cell 15: top tokens pushing toward fake/real from LR coefficients\n",
    "def top_features_lr(model, vectorizer, n=20):\n",
    "    coefs = model.coef_[0]\n",
    "    fnames = np.array(vectorizer.get_feature_names_out())\n",
    "    top_pos = fnames[np.argsort(coefs)[-n:][::-1]]\n",
    "    top_pos_coefs = np.sort(coefs)[-n:][::-1]\n",
    "    top_neg = fnames[np.argsort(coefs)[:n]]\n",
    "    top_neg_coefs = np.sort(coefs)[:n]\n",
    "    pos_df = pd.DataFrame({'feature':top_pos, 'coef':top_pos_coefs})\n",
    "    neg_df = pd.DataFrame({'feature':top_neg, 'coef':top_neg_coefs})\n",
    "    return pos_df, neg_df\n",
    "\n",
    "pos_df, neg_df = top_features_lr(lr, vectorizer, n=25)\n",
    "display(pos_df.head(12))\n",
    "display(neg_df.head(12))\n",
    "pos_df.to_csv(\"top_pos_features_lr.csv\", index=False)\n",
    "neg_df.to_csv(\"top_neg_features_lr.csv\", index=False)\n"
   ]
  },
  {
   "cell_type": "code",
   "execution_count": 19,
   "id": "3d3a24b8-774b-47ab-974b-11384cb0b8fb",
   "metadata": {},
   "outputs": [
    {
     "name": "stdout",
     "output_type": "stream",
     "text": [
      "Sample 0 True: 1 Pred: 1 Prob: 0.9714931604463776\n",
      "PREDICTION: FAKE (confidence 97.1%)\n",
      "Top suspicious tokens: liberal, one, photo, great, anti, trump\n",
      "Mitigation: Check source, cross-check with reputable outlets, consult fact-checkers (Snopes/PolitiFact).\n",
      "--------------------------------------------------------------------------------\n",
      "Sample 1 True: 0 Pred: 0 Prob: 0.03637186305903085\n",
      "PREDICTION: REAL (confidence 3.6%)\n",
      "Still verify source & author if unsure.\n",
      "--------------------------------------------------------------------------------\n",
      "Sample 2 True: 0 Pred: 0 Prob: 0.07527246127943338\n",
      "PREDICTION: REAL (confidence 7.5%)\n",
      "Still verify source & author if unsure.\n",
      "--------------------------------------------------------------------------------\n"
     ]
    }
   ],
   "source": [
    "# Cell 16: function to predict and give mitigation suggestion\n",
    "def predict_and_mitigate(raw_text, model=lr, vec=vectorizer, topk=6):\n",
    "    cleaned = clean_text(raw_text)\n",
    "    Xv = vec.transform([cleaned])\n",
    "    pred = model.predict(Xv)[0]\n",
    "    try:\n",
    "        proba = model.predict_proba(Xv)[0][1]\n",
    "    except Exception:\n",
    "        proba = None\n",
    "    # top contributing words (present in doc)\n",
    "    words = cleaned.split()\n",
    "    feat_index = {f:i for i,f in enumerate(vec.get_feature_names_out())}\n",
    "    coefs = model.coef_[0]\n",
    "    weights = []\n",
    "    for w in set(words):\n",
    "        if w in feat_index:\n",
    "            weights.append((w, float(coefs[feat_index[w]])))\n",
    "    weights_sorted = sorted(weights, key=lambda x: abs(x[1]), reverse=True)[:topk]\n",
    "    # mitigation message\n",
    "    conf_str = f\"{proba*100:.1f}%\" if proba is not None else \"N/A\"\n",
    "    if pred==1:\n",
    "        msg = f\"PREDICTION: FAKE (confidence {conf_str})\\nTop suspicious tokens: {', '.join([w for w,_ in weights_sorted])}\\nMitigation: Check source, cross-check with reputable outlets, consult fact-checkers (Snopes/PolitiFact).\"\n",
    "    else:\n",
    "        msg = f\"PREDICTION: REAL (confidence {conf_str})\\nStill verify source & author if unsure.\"\n",
    "    return pred, proba, weights_sorted, msg\n",
    "\n",
    "# Demo: run on first 3 test samples and print mitigation suggestion\n",
    "for i in range(3):\n",
    "    sample = X_test[i]\n",
    "    pred, proba, wts, msg = predict_and_mitigate(sample)\n",
    "    print(\"Sample\", i, \"True:\", y_test[i], \"Pred:\", pred, \"Prob:\", proba)\n",
    "    print(msg)\n",
    "    print(\"-\"*80)\n"
   ]
  },
  {
   "cell_type": "code",
   "execution_count": null,
   "id": "0f5b2616-471b-4903-bf4b-fb4c895ddbb2",
   "metadata": {},
   "outputs": [],
   "source": []
  },
  {
   "cell_type": "code",
   "execution_count": null,
   "id": "3ec87be9-272e-4ec5-873b-b0aa2d363c60",
   "metadata": {},
   "outputs": [],
   "source": []
  }
 ],
 "metadata": {
  "kernelspec": {
   "display_name": "Python [conda env:base] *",
   "language": "python",
   "name": "conda-base-py"
  },
  "language_info": {
   "codemirror_mode": {
    "name": "ipython",
    "version": 3
   },
   "file_extension": ".py",
   "mimetype": "text/x-python",
   "name": "python",
   "nbconvert_exporter": "python",
   "pygments_lexer": "ipython3",
   "version": "3.12.7"
  }
 },
 "nbformat": 4,
 "nbformat_minor": 5
}
